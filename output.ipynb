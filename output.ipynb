{
 "cells": [
  {
   "cell_type": "code",
   "execution_count": 1,
   "metadata": {},
   "outputs": [],
   "source": [
    "# >>> ADA = exchange.fetch_my_trades('ADA/USDT')\n",
    "# >>> len(ADA)\n",
    "# 185\n",
    "# >>> ADA[-1]\n",
    "output = {'info': {'symbol': 'ADAUSDT', 'id': '653513128', 'orderId': '20644935630', 'side': 'BUY', 'price': '0.82930', 'qty': '317', 'realizedPnl': '2.98190000', 'marginAsset': 'USDT', 'quoteQty': '262.88810', 'commission': '0.10515524', 'commissionAsset': 'USDT', 'time': '1647549688087', 'positionSide': 'SHORT', 'buyer': True, 'maker': False}, 'timestamp': 1647549688087, 'datetime': '2022-03-17T20:41:28.087Z', 'symbol': 'ADA/USDT', 'id': '653513128', 'order': '20644935630', 'type': None, 'side': 'buy', 'takerOrMaker': 'taker', 'price': 0.8293, 'amount': 317.0, 'cost': 262.8881, 'fee': {'cost': 0.10515524, 'currency': 'USDT'}}"
   ]
  },
  {
   "cell_type": "code",
   "execution_count": 2,
   "metadata": {},
   "outputs": [],
   "source": [
    "# >>> days = 1\n",
    "# >>> since = exchange.milliseconds() - days * 24 * 60 * 60 * 1000\n",
    "# >>> ADA = exchange.fetch_my_trades(symbol = 'ADA/USDT', since = since)\n",
    "# >>> ADA\n",
    "output = [{'info': {'symbol': 'ADAUSDT', 'id': '652995214', 'orderId': '20631691790', 'side': 'SELL', 'price': '0.83390', 'qty': '12', 'realizedPnl': '0', 'marginAsset': 'USDT', 'quoteQty': '10.00680', 'commission': '0.00200136', 'commissionAsset': 'USDT', 'time': '1647473265427', 'positionSide': 'SHORT', 'buyer': False, 'maker': True}, 'timestamp': 1647473265427, 'datetime': '2022-03-16T23:27:45.427Z', 'symbol': 'ADA/USDT', 'id': '652995214', 'order': '20631691790', 'type': None, 'side': 'sell', 'takerOrMaker': 'maker', 'price': 0.8339, 'amount': 12.0, 'cost': 10.0068, 'fee': {'cost': 0.00200136, 'currency': 'USDT'}}, {'info': {'symbol': 'ADAUSDT', 'id': '653012158', 'orderId': '20631773730', 'side': 'SELL', 'price': '0.83980', 'qty': '11', 'realizedPnl': '0', 'marginAsset': 'USDT', 'quoteQty': '9.23780', 'commission': '0.00184756', 'commissionAsset': 'USDT', 'time': '1647474704094', 'positionSide': 'SHORT', 'buyer': False, 'maker': True}, 'timestamp': 1647474704094, 'datetime': '2022-03-16T23:51:44.094Z', 'symbol': 'ADA/USDT', 'id': '653012158', 'order': '20631773730', 'type': None, 'side': 'sell', 'takerOrMaker': 'maker', 'price': 0.8398, 'amount': 11.0, 'cost': 9.2378, 'fee': {'cost': 0.00184756, 'currency': 'USDT'}}, {'info': {'symbol': 'ADAUSDT', 'id': '653054843', 'orderId': '20633209655', 'side': 'SELL', 'price': '0.83970', 'qty': '11', 'realizedPnl': '0', 'marginAsset': 'USDT', 'quoteQty': '9.23670', 'commission': '0.00369468', 'commissionAsset': 'USDT', 'time': '1647481698454', 'positionSide': 'SHORT', 'buyer': False, 'maker': False}, 'timestamp': 1647481698454, 'datetime': '2022-03-17T01:48:18.454Z', 'symbol': 'ADA/USDT', 'id': '653054843', 'order': '20633209655', 'type': None, 'side': 'sell', 'takerOrMaker': 'taker', 'price': 0.8397, 'amount': 11.0, 'cost': 9.2367, 'fee': {'cost': 0.00369468, 'currency': 'USDT'}}, {'info': {'symbol': 'ADAUSDT', 'id': '653073974', 'orderId': '20633288729', 'side': 'SELL', 'price': '0.83930', 'qty': '11', 'realizedPnl': '0', 'marginAsset': 'USDT', 'quoteQty': '9.23230', 'commission': '0.00184646', 'commissionAsset': 'USDT', 'time': '1647485240927', 'positionSide': 'SHORT', 'buyer': False, 'maker': True}, 'timestamp': 1647485240927, 'datetime': '2022-03-17T02:47:20.927Z', 'symbol': 'ADA/USDT', 'id': '653073974', 'order': '20633288729', 'type': None, 'side': 'sell', 'takerOrMaker': 'maker', 'price': 0.8393, 'amount': 11.0, 'cost': 9.2323, 'fee': {'cost': 0.00184646, 'currency': 'USDT'}}, {'info': {'symbol': 'ADAUSDT', 'id': '653075555', 'orderId': '20633854221', 'side': 'SELL', 'price': '0.84210', 'qty': '11', 'realizedPnl': '0', 'marginAsset': 'USDT', 'quoteQty': '9.26310', 'commission': '0.00185262', 'commissionAsset': 'USDT', 'time': '1647485381060', 'positionSide': 'SHORT', 'buyer': False, 'maker': True}, 'timestamp': 1647485381060, 'datetime': '2022-03-17T02:49:41.060Z', 'symbol': 'ADA/USDT', 'id': '653075555', 'order': '20633854221', 'type': None, 'side': 'sell', 'takerOrMaker': 'maker', 'price': 0.8421, 'amount': 11.0, 'cost': 9.2631, 'fee': {'cost': 0.00185262, 'currency': 'USDT'}}, {'info': {'symbol': 'ADAUSDT', 'id': '653079573', 'orderId': '20633890628', 'side': 'SELL', 'price': '0.84290', 'qty': '11', 'realizedPnl': '0', 'marginAsset': 'USDT', 'quoteQty': '9.27190', 'commission': '0.00185438', 'commissionAsset': 'USDT', 'time': '1647485948306', 'positionSide': 'SHORT', 'buyer': False, 'maker': True}, 'timestamp': 1647485948306, 'datetime': '2022-03-17T02:59:08.306Z', 'symbol': 'ADA/USDT', 'id': '653079573', 'order': '20633890628', 'type': None, 'side': 'sell', 'takerOrMaker': 'maker', 'price': 0.8429, 'amount': 11.0, 'cost': 9.2719, 'fee': {'cost': 0.00185438, 'currency': 'USDT'}}, {'info': {'symbol': 'ADAUSDT', 'id': '653085699', 'orderId': '20634020527', 'side': 'SELL', 'price': '0.84780', 'qty': '11', 'realizedPnl': '0', 'marginAsset': 'USDT', 'quoteQty': '9.32580', 'commission': '0.00186516', 'commissionAsset': 'USDT', 'time': '1647486159905', 'positionSide': 'SHORT', 'buyer': False, 'maker': True}, 'timestamp': 1647486159905, 'datetime': '2022-03-17T03:02:39.905Z', 'symbol': 'ADA/USDT', 'id': '653085699', 'order': '20634020527', 'type': None, 'side': 'sell', 'takerOrMaker': 'maker', 'price': 0.8478, 'amount': 11.0, 'cost': 9.3258, 'fee': {'cost': 0.00186516, 'currency': 'USDT'}}, {'info': {'symbol': 'ADAUSDT', 'id': '653120103', 'orderId': '20634526174', 'side': 'SELL', 'price': '0.84920', 'qty': '11', 'realizedPnl': '0', 'marginAsset': 'USDT', 'quoteQty': '9.34120', 'commission': '0.00186824', 'commissionAsset': 'USDT', 'time': '1647490456343', 'positionSide': 'SHORT', 'buyer': False, 'maker': True}, 'timestamp': 1647490456343, 'datetime': '2022-03-17T04:14:16.343Z', 'symbol': 'ADA/USDT', 'id': '653120103', 'order': '20634526174', 'type': None, 'side': 'sell', 'takerOrMaker': 'maker', 'price': 0.8492, 'amount': 11.0, 'cost': 9.3412, 'fee': {'cost': 0.00186824, 'currency': 'USDT'}}, {'info': {'symbol': 'ADAUSDT', 'id': '653124092', 'orderId': '20634823170', 'side': 'SELL', 'price': '0.85300', 'qty': '11', 'realizedPnl': '0', 'marginAsset': 'USDT', 'quoteQty': '9.38300', 'commission': '0.00187660', 'commissionAsset': 'USDT', 'time': '1647490760714', 'positionSide': 'SHORT', 'buyer': False, 'maker': True}, 'timestamp': 1647490760714, 'datetime': '2022-03-17T04:19:20.714Z', 'symbol': 'ADA/USDT', 'id': '653124092', 'order': '20634823170', 'type': None, 'side': 'sell', 'takerOrMaker': 'maker', 'price': 0.853, 'amount': 11.0, 'cost': 9.383, 'fee': {'cost': 0.0018766, 'currency': 'USDT'}}, {'info': {'symbol': 'ADAUSDT', 'id': '653125377', 'orderId': '20634842393', 'side': 'SELL', 'price': '0.85400', 'qty': '11', 'realizedPnl': '0', 'marginAsset': 'USDT', 'quoteQty': '9.39400', 'commission': '0.00375760', 'commissionAsset': 'USDT', 'time': '1647490779600', 'positionSide': 'SHORT', 'buyer': False, 'maker': False}, 'timestamp': 1647490779600, 'datetime': '2022-03-17T04:19:39.600Z', 'symbol': 'ADA/USDT', 'id': '653125377', 'order': '20634842393', 'type': None, 'side': 'sell', 'takerOrMaker': 'taker', 'price': 0.854, 'amount': 11.0, 'cost': 9.394, 'fee': {'cost': 0.0037576, 'currency': 'USDT'}}, {'info': {'symbol': 'ADAUSDT', 'id': '653128336', 'orderId': '20634866684', 'side': 'SELL', 'price': '0.85550', 'qty': '11', 'realizedPnl': '0', 'marginAsset': 'USDT', 'quoteQty': '9.41050', 'commission': '0.00188210', 'commissionAsset': 'USDT', 'time': '1647490927060', 'positionSide': 'SHORT', 'buyer': False, 'maker': True}, 'timestamp': 1647490927060, 'datetime': '2022-03-17T04:22:07.060Z', 'symbol': 'ADA/USDT', 'id': '653128336', 'order': '20634866684', 'type': None, 'side': 'sell', 'takerOrMaker': 'maker', 'price': 0.8555, 'amount': 11.0, 'cost': 9.4105, 'fee': {'cost': 0.0018821, 'currency': 'USDT'}}, {'info': {'symbol': 'ADAUSDT', 'id': '653229031', 'orderId': '20637571546', 'side': 'SELL', 'price': '0.85120', 'qty': '11', 'realizedPnl': '0', 'marginAsset': 'USDT', 'quoteQty': '9.36320', 'commission': '0.00374528', 'commissionAsset': 'USDT', 'time': '1647506206855', 'positionSide': 'SHORT', 'buyer': False, 'maker': False}, 'timestamp': 1647506206855, 'datetime': '2022-03-17T08:36:46.855Z', 'symbol': 'ADA/USDT', 'id': '653229031', 'order': '20637571546', 'type': None, 'side': 'sell', 'takerOrMaker': 'taker', 'price': 0.8512, 'amount': 11.0, 'cost': 9.3632, 'fee': {'cost': 0.00374528, 'currency': 'USDT'}}, {'info': {'symbol': 'ADAUSDT', 'id': '653230405', 'orderId': '20637598011', 'side': 'SELL', 'price': '0.85040', 'qty': '11', 'realizedPnl': '0', 'marginAsset': 'USDT', 'quoteQty': '9.35440', 'commission': '0.00374176', 'commissionAsset': 'USDT', 'time': '1647506329726', 'positionSide': 'SHORT', 'buyer': False, 'maker': False}, 'timestamp': 1647506329726, 'datetime': '2022-03-17T08:38:49.726Z', 'symbol': 'ADA/USDT', 'id': '653230405', 'order': '20637598011', 'type': None, 'side': 'sell', 'takerOrMaker': 'taker', 'price': 0.8504, 'amount': 11.0, 'cost': 9.3544, 'fee': {'cost': 0.00374176, 'currency': 'USDT'}}, {'info': {'symbol': 'ADAUSDT', 'id': '653303417', 'orderId': '20639052564', 'side': 'SELL', 'price': '0.84350', 'qty': '11', 'realizedPnl': '0', 'marginAsset': 'USDT', 'quoteQty': '9.27850', 'commission': '0.00185570', 'commissionAsset': 'USDT', 'time': '1647518601199', 'positionSide': 'SHORT', 'buyer': False, 'maker': True}, 'timestamp': 1647518601199, 'datetime': '2022-03-17T12:03:21.199Z', 'symbol': 'ADA/USDT', 'id': '653303417', 'order': '20639052564', 'type': None, 'side': 'sell', 'takerOrMaker': 'maker', 'price': 0.8435, 'amount': 11.0, 'cost': 9.2785, 'fee': {'cost': 0.0018557, 'currency': 'USDT'}}, {'info': {'symbol': 'ADAUSDT', 'id': '653304178', 'orderId': '20639531399', 'side': 'SELL', 'price': '0.84440', 'qty': '11', 'realizedPnl': '0', 'marginAsset': 'USDT', 'quoteQty': '9.28840', 'commission': '0.00185768', 'commissionAsset': 'USDT', 'time': '1647518655050', 'positionSide': 'SHORT', 'buyer': False, 'maker': True}, 'timestamp': 1647518655050, 'datetime': '2022-03-17T12:04:15.050Z', 'symbol': 'ADA/USDT', 'id': '653304178', 'order': '20639531399', 'type': None, 'side': 'sell', 'takerOrMaker': 'maker', 'price': 0.8444, 'amount': 11.0, 'cost': 9.2884, 'fee': {'cost': 0.00185768, 'currency': 'USDT'}}, {'info': {'symbol': 'ADAUSDT', 'id': '653310105', 'orderId': '20639639158', 'side': 'SELL', 'price': '0.84680', 'qty': '11', 'realizedPnl': '0', 'marginAsset': 'USDT', 'quoteQty': '9.31480', 'commission': '0.00186296', 'commissionAsset': 'USDT', 'time': '1647519171103', 'positionSide': 'SHORT', 'buyer': False, 'maker': True}, 'timestamp': 1647519171103, 'datetime': '2022-03-17T12:12:51.103Z', 'symbol': 'ADA/USDT', 'id': '653310105', 'order': '20639639158', 'type': None, 'side': 'sell', 'takerOrMaker': 'maker', 'price': 0.8468, 'amount': 11.0, 'cost': 9.3148, 'fee': {'cost': 0.00186296, 'currency': 'USDT'}}, {'info': {'symbol': 'ADAUSDT', 'id': '653311320', 'orderId': '20639711807', 'side': 'SELL', 'price': '0.84770', 'qty': '11', 'realizedPnl': '0', 'marginAsset': 'USDT', 'quoteQty': '9.32470', 'commission': '0.00186494', 'commissionAsset': 'USDT', 'time': '1647519274019', 'positionSide': 'SHORT', 'buyer': False, 'maker': True}, 'timestamp': 1647519274019, 'datetime': '2022-03-17T12:14:34.019Z', 'symbol': 'ADA/USDT', 'id': '653311320', 'order': '20639711807', 'type': None, 'side': 'sell', 'takerOrMaker': 'maker', 'price': 0.8477, 'amount': 11.0, 'cost': 9.3247, 'fee': {'cost': 0.00186494, 'currency': 'USDT'}}, {'info': {'symbol': 'ADAUSDT', 'id': '653314517', 'orderId': '20639786927', 'side': 'SELL', 'price': '0.84990', 'qty': '11', 'realizedPnl': '0', 'marginAsset': 'USDT', 'quoteQty': '9.34890', 'commission': '0.00186978', 'commissionAsset': 'USDT', 'time': '1647519523564', 'positionSide': 'SHORT', 'buyer': False, 'maker': True}, 'timestamp': 1647519523564, 'datetime': '2022-03-17T12:18:43.564Z', 'symbol': 'ADA/USDT', 'id': '653314517', 'order': '20639786927', 'type': None, 'side': 'sell', 'takerOrMaker': 'maker', 'price': 0.8499, 'amount': 11.0, 'cost': 9.3489, 'fee': {'cost': 0.00186978, 'currency': 'USDT'}}, {'info': {'symbol': 'ADAUSDT', 'id': '653333036', 'orderId': '20639808676', 'side': 'SELL', 'price': '0.85110', 'qty': '11', 'realizedPnl': '0', 'marginAsset': 'USDT', 'quoteQty': '9.36210', 'commission': '0.00187242', 'commissionAsset': 'USDT', 'time': '1647522121682', 'positionSide': 'SHORT', 'buyer': False, 'maker': True}, 'timestamp': 1647522121682, 'datetime': '2022-03-17T13:02:01.682Z', 'symbol': 'ADA/USDT', 'id': '653333036', 'order': '20639808676', 'type': None, 'side': 'sell', 'takerOrMaker': 'maker', 'price': 0.8511, 'amount': 11.0, 'cost': 9.3621, 'fee': {'cost': 0.00187242, 'currency': 'USDT'}}, {'info': {'symbol': 'ADAUSDT', 'id': '653368558', 'orderId': '20641005307', 'side': 'SELL', 'price': '0.85530', 'qty': '11', 'realizedPnl': '0', 'marginAsset': 'USDT', 'quoteQty': '9.40830', 'commission': '0.00188166', 'commissionAsset': 'USDT', 'time': '1647526257379', 'positionSide': 'SHORT', 'buyer': False, 'maker': True}, 'timestamp': 1647526257379, 'datetime': '2022-03-17T14:10:57.379Z', 'symbol': 'ADA/USDT', 'id': '653368558', 'order': '20641005307', 'type': None, 'side': 'sell', 'takerOrMaker': 'maker', 'price': 0.8553, 'amount': 11.0, 'cost': 9.4083, 'fee': {'cost': 0.00188166, 'currency': 'USDT'}}, {'info': {'symbol': 'ADAUSDT', 'id': '653513128', 'orderId': '20644935630', 'side': 'BUY', 'price': '0.82930', 'qty': '317', 'realizedPnl': '2.98190000', 'marginAsset': 'USDT', 'quoteQty': '262.88810', 'commission': '0.10515524', 'commissionAsset': 'USDT', 'time': '1647549688087', 'positionSide': 'SHORT', 'buyer': True, 'maker': False}, 'timestamp': 1647549688087, 'datetime': '2022-03-17T20:41:28.087Z', 'symbol': 'ADA/USDT', 'id': '653513128', 'order': '20644935630', 'type': None, 'side': 'buy', 'takerOrMaker': 'taker', 'price': 0.8293, 'amount': 317.0, 'cost': 262.8881, 'fee': {'cost': 0.10515524, 'currency': 'USDT'}}]\n",
    "\n"
   ]
  },
  {
   "cell_type": "code",
   "execution_count": 3,
   "metadata": {},
   "outputs": [
    {
     "data": {
      "text/plain": [
       "21"
      ]
     },
     "execution_count": 3,
     "metadata": {},
     "output_type": "execute_result"
    }
   ],
   "source": [
    "len(output)"
   ]
  },
  {
   "cell_type": "code",
   "execution_count": null,
   "metadata": {},
   "outputs": [],
   "source": []
  }
 ],
 "metadata": {
  "interpreter": {
   "hash": "949777d72b0d2535278d3dc13498b2535136f6dfe0678499012e853ee9abcab1"
  },
  "kernelspec": {
   "display_name": "Python 3.9.0 64-bit",
   "language": "python",
   "name": "python3"
  },
  "language_info": {
   "codemirror_mode": {
    "name": "ipython",
    "version": 3
   },
   "file_extension": ".py",
   "mimetype": "text/x-python",
   "name": "python",
   "nbconvert_exporter": "python",
   "pygments_lexer": "ipython3",
   "version": "3.9.0"
  },
  "orig_nbformat": 4
 },
 "nbformat": 4,
 "nbformat_minor": 2
}
